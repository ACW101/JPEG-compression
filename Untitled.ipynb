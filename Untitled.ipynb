{
 "cells": [
  {
   "cell_type": "code",
   "execution_count": 23,
   "metadata": {},
   "outputs": [],
   "source": [
    "from PIL import Image\n",
    "import numpy as np\n",
    "from math import cos, sqrt, pi, radians, floor, ceil, log"
   ]
  },
  {
   "cell_type": "code",
   "execution_count": 2,
   "metadata": {},
   "outputs": [],
   "source": [
    "np.set_printoptions(threshold=np.nan)"
   ]
  },
  {
   "cell_type": "code",
   "execution_count": 539,
   "metadata": {},
   "outputs": [
    {
     "data": {
      "text/plain": [
       "array([[76, 77, 77, ..., 77, 76, 76],\n",
       "       [77, 77, 77, ..., 77, 77, 77],\n",
       "       [77, 77, 77, ..., 77, 77, 77],\n",
       "       ...,\n",
       "       [77, 77, 77, ..., 73, 77, 77],\n",
       "       [77, 77, 77, ..., 77, 77, 77],\n",
       "       [ 0,  0,  0, ...,  0,  0,  0]], dtype=int16)"
      ]
     },
     "execution_count": 539,
     "metadata": {},
     "output_type": "execute_result"
    }
   ],
   "source": [
    "img = Image.open(\"Kodak08gray.bmp\")\n",
    "arr = np.asarray(img, dtype=np.int16)\n",
    "arr"
   ]
  },
  {
   "cell_type": "code",
   "execution_count": 512,
   "metadata": {},
   "outputs": [
    {
     "name": "stdout",
     "output_type": "stream",
     "text": [
      "8 16\n"
     ]
    }
   ],
   "source": [
    "base = 8\n",
    "(h, w) = 5, 9\n",
    "(h, w) = base * ceil(h / base), base * ceil(w / base)\n",
    "print(h, w)"
   ]
  },
  {
   "cell_type": "code",
   "execution_count": 507,
   "metadata": {},
   "outputs": [
    {
     "data": {
      "text/plain": [
       "array([[1., 1., 1., 1., 1., 1., 1., 0.],\n",
       "       [1., 1., 1., 1., 1., 1., 1., 0.],\n",
       "       [1., 1., 1., 1., 1., 1., 1., 0.],\n",
       "       [1., 1., 1., 1., 1., 1., 1., 0.],\n",
       "       [1., 1., 1., 1., 1., 1., 1., 0.],\n",
       "       [0., 0., 0., 0., 0., 0., 0., 0.],\n",
       "       [0., 0., 0., 0., 0., 0., 0., 0.],\n",
       "       [0., 0., 0., 0., 0., 0., 0., 0.]])"
      ]
     },
     "execution_count": 507,
     "metadata": {},
     "output_type": "execute_result"
    }
   ],
   "source": [
    "zrs = np.zeros((8,8))\n",
    "zrs[:ones.shape[0],:ones.shape[1]] = ones\n",
    "zrs"
   ]
  },
  {
   "cell_type": "code",
   "execution_count": 493,
   "metadata": {},
   "outputs": [],
   "source": [
    "arr = np.asarray([[50]* 4 + [200] * 4] * 4 + [[200]* 4 + [50] * 4] * 4)"
   ]
  },
  {
   "cell_type": "code",
   "execution_count": 494,
   "metadata": {},
   "outputs": [],
   "source": [
    "substracted = arr - 128\n",
    "cosines = np.zeros((8, 8), dtype=np.float32)\n",
    "coefficients = np.ones((8, 8), dtype=np.float32)\n",
    "for i in range(8):\n",
    "    coefficients[0][i] = 1 / sqrt(2)\n",
    "    coefficients[i][0] = 1 / sqrt(2)\n",
    "coefficients[0][0] = 1/2"
   ]
  },
  {
   "cell_type": "code",
   "execution_count": 459,
   "metadata": {},
   "outputs": [],
   "source": [
    "for i in range(8):\n",
    "    for j in range(8):\n",
    "        cosines[i][j] = cos((2 * i + 1) * j * pi / 16)"
   ]
  },
  {
   "cell_type": "code",
   "execution_count": 460,
   "metadata": {},
   "outputs": [],
   "source": [
    "DCT = np.zeros((8,8), dtype=np.float32)"
   ]
  },
  {
   "cell_type": "code",
   "execution_count": 461,
   "metadata": {},
   "outputs": [],
   "source": [
    "N = 8\n",
    "\n",
    "for i in range(N):\n",
    "    for j in range(N):\n",
    "        temp = 0.0;\n",
    "        for x in range(N):\n",
    "            for y in range(N):\n",
    "                temp += cosines[x][i] * cosines[y][j] * substracted[x][y]\n",
    "        temp *= 1 / sqrt(2 * N) * coefficients[i][j]\n",
    "        DCT[i][j] = temp\n"
   ]
  },
  {
   "cell_type": "code",
   "execution_count": 495,
   "metadata": {},
   "outputs": [
    {
     "name": "stdout",
     "output_type": "stream",
     "text": [
      "Kodak08.bmp     Kodak08gray.bmp Untitled.ipynb\r\n"
     ]
    }
   ],
   "source": [
    "!ls"
   ]
  },
  {
   "cell_type": "code",
   "execution_count": 483,
   "metadata": {},
   "outputs": [],
   "source": [
    "iDCT = np.zeros((8,8), dtype=np.float32)"
   ]
  },
  {
   "cell_type": "code",
   "execution_count": 489,
   "metadata": {},
   "outputs": [],
   "source": [
    "N = 8\n",
    "\n",
    "for x in range(N):\n",
    "    for y in range(N):\n",
    "        temp = 0.0;\n",
    "        for i in range(N):\n",
    "            for j in range(N):\n",
    "                temp += cosines[x][i] * cosines[y][j] * DCT[i][j] * coefficients[i][j]\n",
    "        iDCT[x][y] = temp / sqrt(2 * N)\n"
   ]
  },
  {
   "cell_type": "code",
   "execution_count": 492,
   "metadata": {},
   "outputs": [
    {
     "data": {
      "text/plain": [
       "array([[-78.     , -77.99999, -78.     , -77.99999,  71.99999,  72.     ,\n",
       "         71.99999,  72.     ],\n",
       "       [-77.99999, -78.     , -77.99999, -78.     ,  72.     ,  71.99999,\n",
       "         72.     ,  71.99999],\n",
       "       [-78.     , -77.99999, -78.     , -78.     ,  72.     ,  72.     ,\n",
       "         71.99999,  72.     ],\n",
       "       [-77.99999, -78.     , -78.     , -78.     ,  72.     ,  72.     ,\n",
       "         72.     ,  71.99999],\n",
       "       [ 71.99999,  72.     ,  72.     ,  72.     , -78.     , -78.     ,\n",
       "        -78.     , -77.99999],\n",
       "       [ 72.     ,  71.99999,  72.     ,  72.     , -78.     , -78.     ,\n",
       "        -77.99999, -78.     ],\n",
       "       [ 71.99999,  72.     ,  71.99999,  72.     , -78.     , -77.99999,\n",
       "        -78.     , -77.99999],\n",
       "       [ 72.     ,  71.99999,  72.     ,  71.99999, -77.99999, -78.     ,\n",
       "        -77.99999, -78.     ]], dtype=float32)"
      ]
     },
     "execution_count": 492,
     "metadata": {},
     "output_type": "execute_result"
    }
   ],
   "source": [
    "iDCT"
   ]
  },
  {
   "cell_type": "code",
   "execution_count": 386,
   "metadata": {},
   "outputs": [],
   "source": [
    "X = np.arange(64).reshape(8,8)\n",
    "X += 1\n",
    "Z = np.zeros((8,8), dtype=np.int8)\n",
    "N = 8\n",
    "index = -1\n",
    "for i in range(2*(N-1) + 1):\n",
    "    bound = 0 if i < N else i - N + 1\n",
    "    for j in range(bound, i - bound + 1): \n",
    "        index += 1\n",
    "        if i % 2 == 1:\n",
    "            Z[j,i-j] = index\n",
    "        else:\n",
    "            Z[i-j, j] = index        "
   ]
  },
  {
   "cell_type": "code",
   "execution_count": 388,
   "metadata": {},
   "outputs": [],
   "source": [
    "import itertools"
   ]
  },
  {
   "cell_type": "code",
   "execution_count": 391,
   "metadata": {},
   "outputs": [
    {
     "name": "stdout",
     "output_type": "stream",
     "text": [
      "0\n",
      "1\n",
      "5\n",
      "6\n",
      "14\n",
      "15\n",
      "27\n",
      "28\n",
      "2\n",
      "4\n",
      "7\n",
      "13\n",
      "16\n",
      "26\n",
      "29\n",
      "42\n",
      "3\n",
      "8\n",
      "12\n",
      "17\n",
      "25\n",
      "30\n",
      "41\n",
      "43\n",
      "9\n",
      "11\n",
      "18\n",
      "24\n",
      "31\n",
      "40\n",
      "44\n",
      "53\n",
      "10\n",
      "19\n",
      "23\n",
      "32\n",
      "39\n",
      "45\n",
      "52\n",
      "54\n",
      "20\n",
      "22\n",
      "33\n",
      "38\n",
      "46\n",
      "51\n",
      "55\n",
      "60\n",
      "21\n",
      "34\n",
      "37\n",
      "47\n",
      "50\n",
      "56\n",
      "59\n",
      "61\n",
      "35\n",
      "36\n",
      "48\n",
      "49\n",
      "57\n",
      "58\n",
      "62\n",
      "63\n"
     ]
    }
   ],
   "source": [
    "zi = itertools.chain(*Z)\n",
    "for i in zi:\n",
    "    print(i)"
   ]
  },
  {
   "cell_type": "code",
   "execution_count": 587,
   "metadata": {},
   "outputs": [],
   "source": [
    "from PIL import Image, ImageDraw\n",
    "test_arr = np.arange(100, dtype=np.uint8).reshape(10, 10)\n",
    "img = Image.fromarray(test_arr, \"L\")\n",
    "img.save(\"test.png\")"
   ]
  },
  {
   "cell_type": "code",
   "execution_count": 8,
   "metadata": {},
   "outputs": [
    {
     "data": {
      "text/plain": [
       "array([[1., 1., 1., 1., 1., 1., 1., 1., 0., 0., 0., 0., 0., 0., 0., 0.],\n",
       "       [1., 1., 1., 1., 1., 1., 1., 1., 0., 0., 0., 0., 0., 0., 0., 0.],\n",
       "       [1., 1., 1., 1., 1., 1., 1., 1., 0., 0., 0., 0., 0., 0., 0., 0.],\n",
       "       [1., 1., 1., 1., 1., 1., 1., 1., 0., 0., 0., 0., 0., 0., 0., 0.],\n",
       "       [1., 1., 1., 1., 1., 1., 1., 1., 0., 0., 0., 0., 0., 0., 0., 0.],\n",
       "       [1., 1., 1., 1., 1., 1., 1., 1., 0., 0., 0., 0., 0., 0., 0., 0.],\n",
       "       [1., 1., 1., 1., 1., 1., 1., 1., 0., 0., 0., 0., 0., 0., 0., 0.],\n",
       "       [1., 1., 1., 1., 1., 1., 1., 1., 0., 0., 0., 0., 0., 0., 0., 0.]])"
      ]
     },
     "execution_count": 8,
     "metadata": {},
     "output_type": "execute_result"
    }
   ],
   "source": [
    "a = np.ones((8, 8))\n",
    "b = np.zeros((8, 8))\n",
    "np.concatenate((a, b), axis=1)"
   ]
  },
  {
   "cell_type": "code",
   "execution_count": 582,
   "metadata": {},
   "outputs": [],
   "source": [
    "test_arr = np.asarray(testImg)\n",
    "img2 = Image.fromarray(test_arr, \"L\")\n",
    "img2.save(\"test2.png\")"
   ]
  },
  {
   "cell_type": "code",
   "execution_count": 597,
   "metadata": {},
   "outputs": [],
   "source": [
    "LQM = np.asarray([\n",
    "    [16, 11, 10, 16, 24, 40, 51, 61],\n",
    "    [12, 12, 14, 19, 26, 58,  60, 55],\n",
    "    [14, 13, 16, 24, 40, 57, 69, 56],\n",
    "    [14, 17,  22, 29, 51, 87, 80, 62],\n",
    "    [18, 22, 37, 56, 68, 109, 103, 77],\n",
    "    [24, 35,  55,  64, 81, 104, 113, 92],\n",
    "    [49, 64, 78, 87, 103, 121, 120, 101],\n",
    "    [72, 92, 95, 98, 112, 100, 103, 99]\n",
    "])"
   ]
  },
  {
   "cell_type": "code",
   "execution_count": 610,
   "metadata": {},
   "outputs": [],
   "source": [
    "def quantize(m, N):\n",
    "    if N == 8:\n",
    "        for i in range(N):\n",
    "            for j in range(N):\n",
    "                m[i][j] = np.rint(m[i][j] / LQM[i][j])\n",
    "    if N == 16:\n",
    "        for i in range(N):\n",
    "            for j in range(N):\n",
    "                m[i][j] = m[i][j] / LQM[i//2][j//2]\n",
    "    print(m)"
   ]
  },
  {
   "cell_type": "code",
   "execution_count": 611,
   "metadata": {},
   "outputs": [
    {
     "name": "stdout",
     "output_type": "stream",
     "text": [
      "[[0.0625     0.0625     0.09090909 0.09090909 0.1        0.1\n",
      "  0.0625     0.0625     0.04166667 0.04166667 0.025      0.025\n",
      "  0.01960784 0.01960784 0.01639344 0.01639344]\n",
      " [0.0625     0.0625     0.09090909 0.09090909 0.1        0.1\n",
      "  0.0625     0.0625     0.04166667 0.04166667 0.025      0.025\n",
      "  0.01960784 0.01960784 0.01639344 0.01639344]\n",
      " [0.08333334 0.08333334 0.08333334 0.08333334 0.07142857 0.07142857\n",
      "  0.05263158 0.05263158 0.03846154 0.03846154 0.01724138 0.01724138\n",
      "  0.01666667 0.01666667 0.01818182 0.01818182]\n",
      " [0.08333334 0.08333334 0.08333334 0.08333334 0.07142857 0.07142857\n",
      "  0.05263158 0.05263158 0.03846154 0.03846154 0.01724138 0.01724138\n",
      "  0.01666667 0.01666667 0.01818182 0.01818182]\n",
      " [0.07142857 0.07142857 0.07692308 0.07692308 0.0625     0.0625\n",
      "  0.04166667 0.04166667 0.025      0.025      0.01754386 0.01754386\n",
      "  0.01449275 0.01449275 0.01785714 0.01785714]\n",
      " [0.07142857 0.07142857 0.07692308 0.07692308 0.0625     0.0625\n",
      "  0.04166667 0.04166667 0.025      0.025      0.01754386 0.01754386\n",
      "  0.01449275 0.01449275 0.01785714 0.01785714]\n",
      " [0.07142857 0.07142857 0.05882353 0.05882353 0.04545455 0.04545455\n",
      "  0.03448276 0.03448276 0.01960784 0.01960784 0.01149425 0.01149425\n",
      "  0.0125     0.0125     0.01612903 0.01612903]\n",
      " [0.07142857 0.07142857 0.05882353 0.05882353 0.04545455 0.04545455\n",
      "  0.03448276 0.03448276 0.01960784 0.01960784 0.01149425 0.01149425\n",
      "  0.0125     0.0125     0.01612903 0.01612903]\n",
      " [0.05555556 0.05555556 0.04545455 0.04545455 0.02702703 0.02702703\n",
      "  0.01785714 0.01785714 0.01470588 0.01470588 0.00917431 0.00917431\n",
      "  0.00970874 0.00970874 0.01298701 0.01298701]\n",
      " [0.05555556 0.05555556 0.04545455 0.04545455 0.02702703 0.02702703\n",
      "  0.01785714 0.01785714 0.01470588 0.01470588 0.00917431 0.00917431\n",
      "  0.00970874 0.00970874 0.01298701 0.01298701]\n",
      " [0.04166667 0.04166667 0.02857143 0.02857143 0.01818182 0.01818182\n",
      "  0.015625   0.015625   0.01234568 0.01234568 0.00961538 0.00961538\n",
      "  0.00884956 0.00884956 0.01086957 0.01086957]\n",
      " [0.04166667 0.04166667 0.02857143 0.02857143 0.01818182 0.01818182\n",
      "  0.015625   0.015625   0.01234568 0.01234568 0.00961538 0.00961538\n",
      "  0.00884956 0.00884956 0.01086957 0.01086957]\n",
      " [0.02040816 0.02040816 0.015625   0.015625   0.01282051 0.01282051\n",
      "  0.01149425 0.01149425 0.00970874 0.00970874 0.00826446 0.00826446\n",
      "  0.00833333 0.00833333 0.00990099 0.00990099]\n",
      " [0.02040816 0.02040816 0.015625   0.015625   0.01282051 0.01282051\n",
      "  0.01149425 0.01149425 0.00970874 0.00970874 0.00826446 0.00826446\n",
      "  0.00833333 0.00833333 0.00990099 0.00990099]\n",
      " [0.01388889 0.01388889 0.01086957 0.01086957 0.01052632 0.01052632\n",
      "  0.01020408 0.01020408 0.00892857 0.00892857 0.01       0.01\n",
      "  0.00970874 0.00970874 0.01010101 0.01010101]\n",
      " [0.01388889 0.01388889 0.01086957 0.01086957 0.01052632 0.01052632\n",
      "  0.01020408 0.01020408 0.00892857 0.00892857 0.01       0.01\n",
      "  0.00970874 0.00970874 0.01010101 0.01010101]]\n"
     ]
    }
   ],
   "source": [
    "quantize(np.ones((16,16), dtype=np.float32), 16)"
   ]
  },
  {
   "cell_type": "code",
   "execution_count": 615,
   "metadata": {},
   "outputs": [
    {
     "data": {
      "text/plain": [
       "[-4, -3, -2, -1]"
      ]
     },
     "execution_count": 615,
     "metadata": {},
     "output_type": "execute_result"
    }
   ],
   "source": [
    "a = [-1, 0, 0, 0, -41, 0, 0, 0, 0, 0, 0, 10, 0, 9, 0, 0, 0, 0, 0, 0, 0, 0, -3, 0, -2, 0,-2, 0, 0, 0, 0, 0, 0, 0, 0, 0, 1, 0, 1, 0, 0, 0, 2, 0, 0, 0, 0, 0, 0, 0, 0, 0, 0, -1, 0, 0, 0, 0, 0, 0, 0, 0, 0, 0]\n",
    "def encode(a):\n",
    "    dc = a[0]\n",
    "    run = 0\n",
    "        "
   ]
  },
  {
   "cell_type": "code",
   "execution_count": 619,
   "metadata": {},
   "outputs": [
    {
     "data": {
      "text/plain": [
       "b'\\x00\\x00\\x00\\x0f'"
      ]
     },
     "execution_count": 619,
     "metadata": {},
     "output_type": "execute_result"
    }
   ],
   "source": [
    "(15).to_bytes(4, \"big\")"
   ]
  },
  {
   "cell_type": "code",
   "execution_count": 646,
   "metadata": {},
   "outputs": [
    {
     "data": {
      "text/plain": [
       "2"
      ]
     },
     "execution_count": 646,
     "metadata": {},
     "output_type": "execute_result"
    }
   ],
   "source": [
    "b = b\"\"\n",
    "b += (20).to_bytes(1, 'big')\n",
    "b += (0).to_bytes(1, 'big')"
   ]
  },
  {
   "cell_type": "code",
   "execution_count": 654,
   "metadata": {},
   "outputs": [],
   "source": [
    "import bitarray"
   ]
  },
  {
   "cell_type": "code",
   "execution_count": 2,
   "metadata": {},
   "outputs": [],
   "source": [
    "img = Image.open(\"Kodak08gray.bmp\")\n",
    "arr = np.asarray(img, dtype=np.int16)\n",
    "img2 = Image.open(\"test_uncompressed.png\")\n",
    "arr2 = np.asarray(img2, dtype=np.int16)"
   ]
  },
  {
   "cell_type": "code",
   "execution_count": 21,
   "metadata": {},
   "outputs": [],
   "source": [
    "def PSNR(original, noisy):\n",
    "    (h, w) = original.shape[0], original.shape[1]\n",
    "    diff = np.subtract(original, noisy[0: h, 0: w])\n",
    "    print(diff)\n",
    "    squared = np.square(diff, dtype=np.int32)\n",
    "    print(squared)\n",
    "    MSE = np.sum(np.sum(squared, axis=1), axis=0) / (h * w)\n",
    "    PSNR = 20 * log(255 / sqrt(MSE), 10)\n",
    "    return PSNR"
   ]
  },
  {
   "cell_type": "code",
   "execution_count": 24,
   "metadata": {},
   "outputs": [
    {
     "name": "stdout",
     "output_type": "stream",
     "text": [
      "[[  11    7   -5 ...   -1    1    5]\n",
      " [ -12   -9  -10 ...   -2    0    2]\n",
      " [   5   11   10 ...   -2   -2   -2]\n",
      " ...\n",
      " [  -9   -5   -5 ...  -11  -16  -13]\n",
      " [  -7   -2   -1 ...   13   -1    6]\n",
      " [-255 -249 -249 ...   -4  -12 -254]]\n",
      "[[  121    49    25 ...     1     1    25]\n",
      " [  144    81   100 ...     4     0     4]\n",
      " [   25   121   100 ...     4     4     4]\n",
      " ...\n",
      " [   81    25    25 ...   121   256   169]\n",
      " [   49     4     1 ...   169     1    36]\n",
      " [65025 62001 62001 ...    16   144 64516]]\n",
      "26.98004893485146\n"
     ]
    }
   ],
   "source": [
    "PSNR(arr, arr2)"
   ]
  },
  {
   "cell_type": "code",
   "execution_count": 9,
   "metadata": {},
   "outputs": [
    {
     "data": {
      "text/plain": [
       "512"
      ]
     },
     "execution_count": 9,
     "metadata": {},
     "output_type": "execute_result"
    }
   ],
   "source": []
  },
  {
   "cell_type": "code",
   "execution_count": null,
   "metadata": {},
   "outputs": [],
   "source": []
  }
 ],
 "metadata": {
  "kernelspec": {
   "display_name": "Python 3",
   "language": "python",
   "name": "python3"
  },
  "language_info": {
   "codemirror_mode": {
    "name": "ipython",
    "version": 3
   },
   "file_extension": ".py",
   "mimetype": "text/x-python",
   "name": "python",
   "nbconvert_exporter": "python",
   "pygments_lexer": "ipython3",
   "version": "3.6.4"
  }
 },
 "nbformat": 4,
 "nbformat_minor": 2
}
